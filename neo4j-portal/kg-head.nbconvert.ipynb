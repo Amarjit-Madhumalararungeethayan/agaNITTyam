{
 "cells": [
  {
   "cell_type": "code",
   "execution_count": 1,
   "id": "619ad56e",
   "metadata": {
    "execution": {
     "iopub.execute_input": "2024-05-02T17:33:56.276295Z",
     "iopub.status.busy": "2024-05-02T17:33:56.275814Z",
     "iopub.status.idle": "2024-05-02T17:33:56.969394Z",
     "shell.execute_reply": "2024-05-02T17:33:56.968839Z"
    }
   },
   "outputs": [
    {
     "name": "stdout",
     "output_type": "stream",
     "text": [
      "Requirement already satisfied: neo4j in /Users/amarjit/Desktop/FYP/venv/lib/python3.9/site-packages (5.19.0)\r\n",
      "Requirement already satisfied: pytz in /Users/amarjit/Desktop/FYP/venv/lib/python3.9/site-packages (from neo4j) (2024.1)\r\n"
     ]
    },
    {
     "name": "stdout",
     "output_type": "stream",
     "text": [
      "Note: you may need to restart the kernel to use updated packages.\n"
     ]
    }
   ],
   "source": [
    "pip install neo4j"
   ]
  },
  {
   "cell_type": "code",
   "execution_count": 2,
   "id": "4195fad7",
   "metadata": {
    "execution": {
     "iopub.execute_input": "2024-05-02T17:33:56.985243Z",
     "iopub.status.busy": "2024-05-02T17:33:56.984939Z",
     "iopub.status.idle": "2024-05-02T17:33:57.065613Z",
     "shell.execute_reply": "2024-05-02T17:33:57.065341Z"
    }
   },
   "outputs": [],
   "source": [
    "from neo4j import GraphDatabase"
   ]
  },
  {
   "cell_type": "code",
   "execution_count": 3,
   "id": "bee1f53d",
   "metadata": {
    "execution": {
     "iopub.execute_input": "2024-05-02T17:33:57.072137Z",
     "iopub.status.busy": "2024-05-02T17:33:57.072002Z",
     "iopub.status.idle": "2024-05-02T17:33:57.073995Z",
     "shell.execute_reply": "2024-05-02T17:33:57.073752Z"
    }
   },
   "outputs": [],
   "source": [
    "driver=GraphDatabase.driver(uri=\"bolt://localhost:7687/neo4j\")\n",
    "#if database has as userid & pwd, use\n",
    "#driver=GraphDatabase.driver(uri=\"bolt://localhost:7687/neo4j\", auth=(\"neo4j\", \"Password\"))\n",
    "session=driver.session()"
   ]
  },
  {
   "cell_type": "code",
   "execution_count": 4,
   "id": "0e494fe4",
   "metadata": {
    "execution": {
     "iopub.execute_input": "2024-05-02T17:33:57.075416Z",
     "iopub.status.busy": "2024-05-02T17:33:57.075312Z",
     "iopub.status.idle": "2024-05-02T17:33:57.077148Z",
     "shell.execute_reply": "2024-05-02T17:33:57.076885Z"
    }
   },
   "outputs": [],
   "source": [
    "def preprocess_result(result):\n",
    "    preprocessed_data = []\n",
    "    for record in result:\n",
    "        preprocessed_data.append(record)\n",
    "    return preprocessed_data[0]"
   ]
  },
  {
   "cell_type": "code",
   "execution_count": 5,
   "id": "5a4d69d0",
   "metadata": {
    "execution": {
     "iopub.execute_input": "2024-05-02T17:33:57.078552Z",
     "iopub.status.busy": "2024-05-02T17:33:57.078453Z",
     "iopub.status.idle": "2024-05-02T17:33:57.118294Z",
     "shell.execute_reply": "2024-05-02T17:33:57.117989Z"
    },
    "tags": [
     "capture_output"
    ]
   },
   "outputs": [
    {
     "name": "stdout",
     "output_type": "stream",
     "text": [
      "<Record n=<Node element_id='4:7aa7e805-ae53-4db8-a2ee-292a1b5b500b:15' labels=frozenset({'பொருட்பெயர்'}) properties={'neo4jImportId': 16, 'lemma': 'நாற்காலி', 'line_text': 'நாற்காலி', 'annotator': 1, 'line_id': 17}> r=<Relationship element_id='5:7aa7e805-ae53-4db8-a2ee-292a1b5b500b:499' nodes=(<Node element_id='4:7aa7e805-ae53-4db8-a2ee-292a1b5b500b:15' labels=frozenset({'பொருட்பெயர்'}) properties={'neo4jImportId': 16, 'lemma': 'நாற்காலி', 'line_text': 'நாற்காலி', 'annotator': 1, 'line_id': 17}>, <Node element_id='4:7aa7e805-ae53-4db8-a2ee-292a1b5b500b:715' labels=frozenset({'பொருட்பெயர்'}) properties={'neo4jImportId': 727, 'lemma': 'நாற்காலிகள்', 'line_text': 'நாற்காலி\\tநாற்காலிகள்', 'annotator': 1, 'line_id': 619}>) type='ஒருமை  பன்மை' properties={'line_text': 'நாற்காலி\\tநாற்காலிகள்', 'annotator': 1, 'line_id': 619}> relatedNode=<Node element_id='4:7aa7e805-ae53-4db8-a2ee-292a1b5b500b:715' labels=frozenset({'பொருட்பெயர்'}) properties={'neo4jImportId': 727, 'lemma': 'நாற்காலிகள்', 'line_text': 'நாற்காலி\\tநாற்காலிகள்', 'annotator': 1, 'line_id': 619}>>\n"
     ]
    }
   ],
   "source": [
    "query=\"\"\"\n",
    "MATCH (randomNode)\n",
    "WITH randomNode\n",
    "ORDER BY rand()\n",
    "LIMIT 1\n",
    "MATCH (n {lemma: randomNode.lemma})-[r]->(relatedNode)\n",
    "RETURN n, r, relatedNode\n",
    "\"\"\"\n",
    "results=session.run(query)\n",
    "\n",
    "for record in results:\n",
    "    print(record)"
   ]
  },
  {
   "cell_type": "code",
   "execution_count": null,
   "id": "755ea792",
   "metadata": {},
   "outputs": [],
   "source": []
  },
  {
   "cell_type": "code",
   "execution_count": null,
   "id": "4d0ef13e",
   "metadata": {},
   "outputs": [],
   "source": []
  }
 ],
 "metadata": {
  "celltoolbar": "Tags",
  "kernelspec": {
   "display_name": "Python 3 (ipykernel)",
   "language": "python",
   "name": "python3"
  },
  "language_info": {
   "codemirror_mode": {
    "name": "ipython",
    "version": 3
   },
   "file_extension": ".py",
   "mimetype": "text/x-python",
   "name": "python",
   "nbconvert_exporter": "python",
   "pygments_lexer": "ipython3",
   "version": "3.9.15"
  }
 },
 "nbformat": 4,
 "nbformat_minor": 5
}
