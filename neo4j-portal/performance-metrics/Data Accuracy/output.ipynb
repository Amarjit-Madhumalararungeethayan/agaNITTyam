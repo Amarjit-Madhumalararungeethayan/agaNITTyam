{
 "cells": [
  {
   "cell_type": "code",
   "execution_count": 1,
   "id": "619ad56e",
   "metadata": {
    "execution": {
     "iopub.execute_input": "2024-05-03T06:51:14.248099Z",
     "iopub.status.busy": "2024-05-03T06:51:14.247414Z",
     "iopub.status.idle": "2024-05-03T06:51:14.958910Z",
     "shell.execute_reply": "2024-05-03T06:51:14.958322Z"
    },
    "papermill": {
     "duration": 0.719386,
     "end_time": "2024-05-03T06:51:14.960583",
     "exception": false,
     "start_time": "2024-05-03T06:51:14.241197",
     "status": "completed"
    },
    "tags": []
   },
   "outputs": [
    {
     "name": "stdout",
     "output_type": "stream",
     "text": [
      "Requirement already satisfied: neo4j in /Users/amarjit/Desktop/FYP/venv/lib/python3.9/site-packages (5.19.0)\r\n",
      "Requirement already satisfied: pytz in /Users/amarjit/Desktop/FYP/venv/lib/python3.9/site-packages (from neo4j) (2024.1)\r\n"
     ]
    },
    {
     "name": "stdout",
     "output_type": "stream",
     "text": [
      "Note: you may need to restart the kernel to use updated packages."
     ]
    },
    {
     "name": "stdout",
     "output_type": "stream",
     "text": [
      "\n"
     ]
    }
   ],
   "source": [
    "pip install neo4j"
   ]
  },
  {
   "cell_type": "code",
   "execution_count": 2,
   "id": "4195fad7",
   "metadata": {
    "execution": {
     "iopub.execute_input": "2024-05-03T06:51:14.965638Z",
     "iopub.status.busy": "2024-05-03T06:51:14.965407Z",
     "iopub.status.idle": "2024-05-03T06:51:15.044811Z",
     "shell.execute_reply": "2024-05-03T06:51:15.044521Z"
    },
    "papermill": {
     "duration": 0.08307,
     "end_time": "2024-05-03T06:51:15.045911",
     "exception": false,
     "start_time": "2024-05-03T06:51:14.962841",
     "status": "completed"
    },
    "tags": []
   },
   "outputs": [],
   "source": [
    "from neo4j import GraphDatabase"
   ]
  },
  {
   "cell_type": "code",
   "execution_count": 3,
   "id": "bee1f53d",
   "metadata": {
    "execution": {
     "iopub.execute_input": "2024-05-03T06:51:15.048288Z",
     "iopub.status.busy": "2024-05-03T06:51:15.048173Z",
     "iopub.status.idle": "2024-05-03T06:51:15.050055Z",
     "shell.execute_reply": "2024-05-03T06:51:15.049830Z"
    },
    "papermill": {
     "duration": 0.004198,
     "end_time": "2024-05-03T06:51:15.051101",
     "exception": false,
     "start_time": "2024-05-03T06:51:15.046903",
     "status": "completed"
    },
    "tags": []
   },
   "outputs": [],
   "source": [
    "driver=GraphDatabase.driver(uri=\"bolt://localhost:7687/neo4j\")\n",
    "#if database has as userid & pwd, use\n",
    "#driver=GraphDatabase.driver(uri=\"bolt://localhost:7687/neo4j\", auth=(\"neo4j\", \"Password\"))\n",
    "session=driver.session()"
   ]
  },
  {
   "cell_type": "code",
   "execution_count": 4,
   "id": "0e494fe4",
   "metadata": {
    "execution": {
     "iopub.execute_input": "2024-05-03T06:51:15.053379Z",
     "iopub.status.busy": "2024-05-03T06:51:15.053260Z",
     "iopub.status.idle": "2024-05-03T06:51:15.055142Z",
     "shell.execute_reply": "2024-05-03T06:51:15.054889Z"
    },
    "papermill": {
     "duration": 0.003909,
     "end_time": "2024-05-03T06:51:15.055975",
     "exception": false,
     "start_time": "2024-05-03T06:51:15.052066",
     "status": "completed"
    },
    "tags": []
   },
   "outputs": [],
   "source": [
    "def preprocess_result(result):\n",
    "    preprocessed_data = []\n",
    "    for record in result:\n",
    "        preprocessed_data.append(record)\n",
    "    return preprocessed_data[0]"
   ]
  },
  {
   "cell_type": "code",
   "execution_count": 5,
   "id": "5a4d69d0",
   "metadata": {
    "execution": {
     "iopub.execute_input": "2024-05-03T06:51:15.058150Z",
     "iopub.status.busy": "2024-05-03T06:51:15.058047Z",
     "iopub.status.idle": "2024-05-03T06:51:15.082900Z",
     "shell.execute_reply": "2024-05-03T06:51:15.082576Z"
    },
    "papermill": {
     "duration": 0.027195,
     "end_time": "2024-05-03T06:51:15.084058",
     "exception": false,
     "start_time": "2024-05-03T06:51:15.056863",
     "status": "completed"
    },
    "tags": [
     "capture_output"
    ]
   },
   "outputs": [
    {
     "name": "stdout",
     "output_type": "stream",
     "text": [
      "<Record n=<Node element_id='4:7aa7e805-ae53-4db8-a2ee-292a1b5b500b:1206' labels=frozenset({'பண்புப்பெயர்'}) properties={'neo4jImportId': 1228, 'lemma': 'இல்லாமல்', 'line_text': 'சீவனில்லாமல்\\t’சீவன்\\tஇல்லாமல்', 'annotator': 1, 'line_id': 794}>>\n"
     ]
    }
   ],
   "source": [
    "query=\"\"\"\n",
    "MATCH (n) WITH n, RAND() AS random\n",
    "RETURN n\n",
    "ORDER BY random\n",
    "LIMIT 1\n",
    "\"\"\"\n",
    "results=session.run(query)\n",
    "\n",
    "preprocessed_data = preprocess_result(results)\n",
    "\n",
    "print(preprocessed_data)"
   ]
  },
  {
   "cell_type": "code",
   "execution_count": null,
   "id": "755ea792",
   "metadata": {
    "papermill": {
     "duration": 0.001041,
     "end_time": "2024-05-03T06:51:15.086361",
     "exception": false,
     "start_time": "2024-05-03T06:51:15.085320",
     "status": "completed"
    },
    "tags": []
   },
   "outputs": [],
   "source": []
  },
  {
   "cell_type": "code",
   "execution_count": null,
   "id": "4d0ef13e",
   "metadata": {
    "papermill": {
     "duration": 0.000997,
     "end_time": "2024-05-03T06:51:15.088372",
     "exception": false,
     "start_time": "2024-05-03T06:51:15.087375",
     "status": "completed"
    },
    "tags": []
   },
   "outputs": [],
   "source": []
  }
 ],
 "metadata": {
  "celltoolbar": "Tags",
  "kernelspec": {
   "display_name": "Python 3 (ipykernel)",
   "language": "python",
   "name": "python3"
  },
  "language_info": {
   "codemirror_mode": {
    "name": "ipython",
    "version": 3
   },
   "file_extension": ".py",
   "mimetype": "text/x-python",
   "name": "python",
   "nbconvert_exporter": "python",
   "pygments_lexer": "ipython3",
   "version": "3.9.15"
  },
  "papermill": {
   "default_parameters": {},
   "duration": 1.603284,
   "end_time": "2024-05-03T06:51:15.210591",
   "environment_variables": {},
   "exception": null,
   "input_path": "/Users/amarjit/Desktop/FYP/agaNITTyam/neo4j-portal/ran-word.ipynb",
   "output_path": "output.ipynb",
   "parameters": {},
   "start_time": "2024-05-03T06:51:13.607307",
   "version": "2.6.0"
  }
 },
 "nbformat": 4,
 "nbformat_minor": 5
}