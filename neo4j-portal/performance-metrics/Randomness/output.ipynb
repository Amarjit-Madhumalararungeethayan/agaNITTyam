{
 "cells": [
  {
   "cell_type": "code",
   "execution_count": 1,
   "id": "619ad56e",
   "metadata": {
    "execution": {
     "iopub.execute_input": "2024-05-02T18:44:37.948088Z",
     "iopub.status.busy": "2024-05-02T18:44:37.947657Z",
     "iopub.status.idle": "2024-05-02T18:44:38.669604Z",
     "shell.execute_reply": "2024-05-02T18:44:38.668986Z"
    },
    "papermill": {
     "duration": 0.728415,
     "end_time": "2024-05-02T18:44:38.671326",
     "exception": false,
     "start_time": "2024-05-02T18:44:37.942911",
     "status": "completed"
    },
    "tags": []
   },
   "outputs": [
    {
     "name": "stdout",
     "output_type": "stream",
     "text": [
      "Requirement already satisfied: neo4j in /Users/amarjit/Desktop/FYP/venv/lib/python3.9/site-packages (5.19.0)\r\n",
      "Requirement already satisfied: pytz in /Users/amarjit/Desktop/FYP/venv/lib/python3.9/site-packages (from neo4j) (2024.1)\r\n"
     ]
    },
    {
     "name": "stdout",
     "output_type": "stream",
     "text": [
      "Note: you may need to restart the kernel to use updated packages.\n"
     ]
    }
   ],
   "source": [
    "pip install neo4j"
   ]
  },
  {
   "cell_type": "code",
   "execution_count": 2,
   "id": "4195fad7",
   "metadata": {
    "execution": {
     "iopub.execute_input": "2024-05-02T18:44:38.675878Z",
     "iopub.status.busy": "2024-05-02T18:44:38.675643Z",
     "iopub.status.idle": "2024-05-02T18:44:38.750243Z",
     "shell.execute_reply": "2024-05-02T18:44:38.749975Z"
    },
    "papermill": {
     "duration": 0.077964,
     "end_time": "2024-05-02T18:44:38.751333",
     "exception": false,
     "start_time": "2024-05-02T18:44:38.673369",
     "status": "completed"
    },
    "tags": []
   },
   "outputs": [],
   "source": [
    "from neo4j import GraphDatabase"
   ]
  },
  {
   "cell_type": "code",
   "execution_count": 3,
   "id": "bee1f53d",
   "metadata": {
    "execution": {
     "iopub.execute_input": "2024-05-02T18:44:38.753639Z",
     "iopub.status.busy": "2024-05-02T18:44:38.753518Z",
     "iopub.status.idle": "2024-05-02T18:44:38.755382Z",
     "shell.execute_reply": "2024-05-02T18:44:38.755158Z"
    },
    "papermill": {
     "duration": 0.004056,
     "end_time": "2024-05-02T18:44:38.756345",
     "exception": false,
     "start_time": "2024-05-02T18:44:38.752289",
     "status": "completed"
    },
    "tags": []
   },
   "outputs": [],
   "source": [
    "driver=GraphDatabase.driver(uri=\"bolt://localhost:7687/neo4j\")\n",
    "#if database has as userid & pwd, use\n",
    "#driver=GraphDatabase.driver(uri=\"bolt://localhost:7687/neo4j\", auth=(\"neo4j\", \"Password\"))\n",
    "session=driver.session()"
   ]
  },
  {
   "cell_type": "code",
   "execution_count": 4,
   "id": "0e494fe4",
   "metadata": {
    "execution": {
     "iopub.execute_input": "2024-05-02T18:44:38.758523Z",
     "iopub.status.busy": "2024-05-02T18:44:38.758424Z",
     "iopub.status.idle": "2024-05-02T18:44:38.760191Z",
     "shell.execute_reply": "2024-05-02T18:44:38.759945Z"
    },
    "papermill": {
     "duration": 0.003928,
     "end_time": "2024-05-02T18:44:38.761109",
     "exception": false,
     "start_time": "2024-05-02T18:44:38.757181",
     "status": "completed"
    },
    "tags": []
   },
   "outputs": [],
   "source": [
    "def preprocess_result(result):\n",
    "    preprocessed_data = []\n",
    "    for record in result:\n",
    "        preprocessed_data.append(record)\n",
    "    return preprocessed_data[0]"
   ]
  },
  {
   "cell_type": "code",
   "execution_count": 5,
   "id": "5a4d69d0",
   "metadata": {
    "execution": {
     "iopub.execute_input": "2024-05-02T18:44:38.763384Z",
     "iopub.status.busy": "2024-05-02T18:44:38.763264Z",
     "iopub.status.idle": "2024-05-02T18:44:38.771516Z",
     "shell.execute_reply": "2024-05-02T18:44:38.771252Z"
    },
    "papermill": {
     "duration": 0.0104,
     "end_time": "2024-05-02T18:44:38.772402",
     "exception": false,
     "start_time": "2024-05-02T18:44:38.762002",
     "status": "completed"
    },
    "tags": [
     "capture_output"
    ]
   },
   "outputs": [
    {
     "name": "stdout",
     "output_type": "stream",
     "text": [
      "<Record n=<Node element_id='4:7aa7e805-ae53-4db8-a2ee-292a1b5b500b:249' labels=frozenset({'பண்புப்பெயர்'}) properties={'neo4jImportId': 251, 'lemma': 'தீமை', 'line_text': 'நன்மை\\tதீமை', 'annotator': 1, 'line_id': 250}> r=<Relationship element_id='5:7aa7e805-ae53-4db8-a2ee-292a1b5b500b:26' nodes=(<Node element_id='4:7aa7e805-ae53-4db8-a2ee-292a1b5b500b:249' labels=frozenset({'பண்புப்பெயர்'}) properties={'neo4jImportId': 251, 'lemma': 'தீமை', 'line_text': 'நன்மை\\tதீமை', 'annotator': 1, 'line_id': 250}>, <Node element_id='4:7aa7e805-ae53-4db8-a2ee-292a1b5b500b:174' labels=frozenset({'பண்புப்பெயர்'}) properties={'neo4jImportId': 175, 'lemma': 'நன்மை', 'line_text': 'நன்மை', 'annotator': 1, 'line_id': 182}>) type='எதிர்ச்சொல்' properties={'line_text': 'நன்மை\\tதீமை', 'annotator': 1, 'line_id': 250}> relatedNode=<Node element_id='4:7aa7e805-ae53-4db8-a2ee-292a1b5b500b:174' labels=frozenset({'பண்புப்பெயர்'}) properties={'neo4jImportId': 175, 'lemma': 'நன்மை', 'line_text': 'நன்மை', 'annotator': 1, 'line_id': 182}>>\n"
     ]
    }
   ],
   "source": [
    "query=\"\"\"\n",
    "MATCH (randomNode)\n",
    "WITH randomNode\n",
    "ORDER BY rand()\n",
    "LIMIT 1\n",
    "MATCH (n {lemma: randomNode.lemma})-[r]->(relatedNode)\n",
    "RETURN n, r, relatedNode\n",
    "\"\"\"\n",
    "results=session.run(query)\n",
    "\n",
    "for record in results:\n",
    "    print(record)"
   ]
  },
  {
   "cell_type": "code",
   "execution_count": null,
   "id": "755ea792",
   "metadata": {
    "papermill": {
     "duration": 0.000848,
     "end_time": "2024-05-02T18:44:38.774310",
     "exception": false,
     "start_time": "2024-05-02T18:44:38.773462",
     "status": "completed"
    },
    "tags": []
   },
   "outputs": [],
   "source": []
  },
  {
   "cell_type": "code",
   "execution_count": null,
   "id": "4d0ef13e",
   "metadata": {
    "papermill": {
     "duration": 0.000865,
     "end_time": "2024-05-02T18:44:38.775985",
     "exception": false,
     "start_time": "2024-05-02T18:44:38.775120",
     "status": "completed"
    },
    "tags": []
   },
   "outputs": [],
   "source": []
  }
 ],
 "metadata": {
  "celltoolbar": "Tags",
  "kernelspec": {
   "display_name": "Python 3 (ipykernel)",
   "language": "python",
   "name": "python3"
  },
  "language_info": {
   "codemirror_mode": {
    "name": "ipython",
    "version": 3
   },
   "file_extension": ".py",
   "mimetype": "text/x-python",
   "name": "python",
   "nbconvert_exporter": "python",
   "pygments_lexer": "ipython3",
   "version": "3.9.15"
  },
  "papermill": {
   "default_parameters": {},
   "duration": 1.513997,
   "end_time": "2024-05-02T18:44:38.897284",
   "environment_variables": {},
   "exception": null,
   "input_path": "/Users/amarjit/Desktop/FYP/agaNITTyam/neo4j-portal/kg-head.ipynb",
   "output_path": "output.ipynb",
   "parameters": {},
   "start_time": "2024-05-02T18:44:37.383287",
   "version": "2.6.0"
  }
 },
 "nbformat": 4,
 "nbformat_minor": 5
}