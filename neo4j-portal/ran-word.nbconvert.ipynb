{
 "cells": [
  {
   "cell_type": "code",
   "execution_count": 1,
   "id": "619ad56e",
   "metadata": {
    "execution": {
     "iopub.execute_input": "2024-04-07T15:40:10.374626Z",
     "iopub.status.busy": "2024-04-07T15:40:10.373959Z",
     "iopub.status.idle": "2024-04-07T15:40:11.065876Z",
     "shell.execute_reply": "2024-04-07T15:40:11.065282Z"
    }
   },
   "outputs": [
    {
     "name": "stdout",
     "output_type": "stream",
     "text": [
      "Requirement already satisfied: neo4j in /Users/amarjit/Desktop/FYP/venv/lib/python3.9/site-packages (5.19.0)\r\n",
      "Requirement already satisfied: pytz in /Users/amarjit/Desktop/FYP/venv/lib/python3.9/site-packages (from neo4j) (2024.1)\r\n"
     ]
    },
    {
     "name": "stdout",
     "output_type": "stream",
     "text": [
      "Note: you may need to restart the kernel to use updated packages.\n"
     ]
    }
   ],
   "source": [
    "pip install neo4j"
   ]
  },
  {
   "cell_type": "code",
   "execution_count": 2,
   "id": "4195fad7",
   "metadata": {
    "execution": {
     "iopub.execute_input": "2024-04-07T15:40:11.069132Z",
     "iopub.status.busy": "2024-04-07T15:40:11.068721Z",
     "iopub.status.idle": "2024-04-07T15:40:11.143752Z",
     "shell.execute_reply": "2024-04-07T15:40:11.143483Z"
    }
   },
   "outputs": [],
   "source": [
    "from neo4j import GraphDatabase"
   ]
  },
  {
   "cell_type": "code",
   "execution_count": 3,
   "id": "bee1f53d",
   "metadata": {
    "execution": {
     "iopub.execute_input": "2024-04-07T15:40:11.145398Z",
     "iopub.status.busy": "2024-04-07T15:40:11.145302Z",
     "iopub.status.idle": "2024-04-07T15:40:11.147222Z",
     "shell.execute_reply": "2024-04-07T15:40:11.146976Z"
    }
   },
   "outputs": [],
   "source": [
    "driver=GraphDatabase.driver(uri=\"bolt://localhost:7687/neo4j\")\n",
    "session=driver.session()"
   ]
  },
  {
   "cell_type": "code",
   "execution_count": 4,
   "id": "0e494fe4",
   "metadata": {
    "execution": {
     "iopub.execute_input": "2024-04-07T15:40:11.148743Z",
     "iopub.status.busy": "2024-04-07T15:40:11.148657Z",
     "iopub.status.idle": "2024-04-07T15:40:11.150598Z",
     "shell.execute_reply": "2024-04-07T15:40:11.150360Z"
    }
   },
   "outputs": [],
   "source": [
    "def preprocess_result(result):\n",
    "    preprocessed_data = []\n",
    "    for record in result:\n",
    "        preprocessed_data.append(record)\n",
    "    return preprocessed_data[0]"
   ]
  },
  {
   "cell_type": "code",
   "execution_count": 5,
   "id": "5a4d69d0",
   "metadata": {
    "execution": {
     "iopub.execute_input": "2024-04-07T15:40:11.152122Z",
     "iopub.status.busy": "2024-04-07T15:40:11.152035Z",
     "iopub.status.idle": "2024-04-07T15:40:11.159963Z",
     "shell.execute_reply": "2024-04-07T15:40:11.159720Z"
    },
    "tags": [
     "capture_output"
    ]
   },
   "outputs": [
    {
     "name": "stdout",
     "output_type": "stream",
     "text": [
      "<Record n=<Node element_id='4:7aa7e805-ae53-4db8-a2ee-292a1b5b500b:5' labels=frozenset({'பொருட்பெயர்'}) properties={'neo4jImportId': 6, 'lemma': 'தென்னை', 'line_text': 'தென்னை', 'annotator': 1, 'line_id': 7}>>\n"
     ]
    }
   ],
   "source": [
    "query=\"\"\"\n",
    "MATCH (n) WHERE rand() < 0.05 RETURN n LIMIT 1\n",
    "\"\"\"\n",
    "results=session.run(query)\n",
    "\n",
    "preprocessed_data = preprocess_result(results)\n",
    "\n",
    "print(preprocessed_data)"
   ]
  },
  {
   "cell_type": "code",
   "execution_count": null,
   "id": "755ea792",
   "metadata": {},
   "outputs": [],
   "source": []
  },
  {
   "cell_type": "code",
   "execution_count": null,
   "id": "4d0ef13e",
   "metadata": {},
   "outputs": [],
   "source": []
  }
 ],
 "metadata": {
  "celltoolbar": "Tags",
  "kernelspec": {
   "display_name": "Python 3 (ipykernel)",
   "language": "python",
   "name": "python3"
  },
  "language_info": {
   "codemirror_mode": {
    "name": "ipython",
    "version": 3
   },
   "file_extension": ".py",
   "mimetype": "text/x-python",
   "name": "python",
   "nbconvert_exporter": "python",
   "pygments_lexer": "ipython3",
   "version": "3.9.15"
  }
 },
 "nbformat": 4,
 "nbformat_minor": 5
}
