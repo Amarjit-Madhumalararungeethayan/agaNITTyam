{
 "cells": [
  {
   "cell_type": "code",
   "execution_count": 1,
   "id": "619ad56e",
   "metadata": {
    "execution": {
     "iopub.execute_input": "2024-04-30T18:06:37.685491Z",
     "iopub.status.busy": "2024-04-30T18:06:37.684965Z",
     "iopub.status.idle": "2024-04-30T18:06:38.358247Z",
     "shell.execute_reply": "2024-04-30T18:06:38.357632Z"
    }
   },
   "outputs": [
    {
     "name": "stdout",
     "output_type": "stream",
     "text": [
      "Requirement already satisfied: neo4j in /Users/amarjit/Desktop/FYP/venv/lib/python3.9/site-packages (5.19.0)\r\n",
      "Requirement already satisfied: pytz in /Users/amarjit/Desktop/FYP/venv/lib/python3.9/site-packages (from neo4j) (2024.1)\r\n"
     ]
    },
    {
     "name": "stdout",
     "output_type": "stream",
     "text": [
      "Note: you may need to restart the kernel to use updated packages.\n"
     ]
    }
   ],
   "source": [
    "pip install neo4j"
   ]
  },
  {
   "cell_type": "code",
   "execution_count": 2,
   "id": "4195fad7",
   "metadata": {
    "execution": {
     "iopub.execute_input": "2024-04-30T18:06:38.361357Z",
     "iopub.status.busy": "2024-04-30T18:06:38.361135Z",
     "iopub.status.idle": "2024-04-30T18:06:38.436326Z",
     "shell.execute_reply": "2024-04-30T18:06:38.436038Z"
    }
   },
   "outputs": [],
   "source": [
    "from neo4j import GraphDatabase"
   ]
  },
  {
   "cell_type": "code",
   "execution_count": 3,
   "id": "bee1f53d",
   "metadata": {
    "execution": {
     "iopub.execute_input": "2024-04-30T18:06:38.438077Z",
     "iopub.status.busy": "2024-04-30T18:06:38.437972Z",
     "iopub.status.idle": "2024-04-30T18:06:38.440053Z",
     "shell.execute_reply": "2024-04-30T18:06:38.439791Z"
    }
   },
   "outputs": [],
   "source": [
    "driver=GraphDatabase.driver(uri=\"bolt://localhost:7687/neo4j\")\n",
    "#if database has as userid & pwd, use\n",
    "#driver=GraphDatabase.driver(uri=\"bolt://localhost:7687/neo4j\", auth=(\"neo4j\", \"Password\"))\n",
    "session=driver.session()"
   ]
  },
  {
   "cell_type": "code",
   "execution_count": 4,
   "id": "0e494fe4",
   "metadata": {
    "execution": {
     "iopub.execute_input": "2024-04-30T18:06:38.441601Z",
     "iopub.status.busy": "2024-04-30T18:06:38.441515Z",
     "iopub.status.idle": "2024-04-30T18:06:38.443379Z",
     "shell.execute_reply": "2024-04-30T18:06:38.443135Z"
    }
   },
   "outputs": [],
   "source": [
    "def preprocess_result(result):\n",
    "    preprocessed_data = []\n",
    "    for record in result:\n",
    "        preprocessed_data.append(record)\n",
    "    return preprocessed_data[0]"
   ]
  },
  {
   "cell_type": "code",
   "execution_count": 5,
   "id": "5a4d69d0",
   "metadata": {
    "execution": {
     "iopub.execute_input": "2024-04-30T18:06:38.444825Z",
     "iopub.status.busy": "2024-04-30T18:06:38.444739Z",
     "iopub.status.idle": "2024-04-30T18:06:38.514942Z",
     "shell.execute_reply": "2024-04-30T18:06:38.514144Z"
    },
    "tags": [
     "capture_output"
    ]
   },
   "outputs": [
    {
     "name": "stdout",
     "output_type": "stream",
     "text": [
      "<Record n=<Node element_id='4:7aa7e805-ae53-4db8-a2ee-292a1b5b500b:478' labels=frozenset({'பண்புப்பெயர்'}) properties={'neo4jImportId': 486, 'lemma': 'சாதிக்க', 'line_text': 'அடைய\\tசாதிக்க', 'annotator': 1, 'line_id': 476}>>\n"
     ]
    }
   ],
   "source": [
    "query=\"\"\"\n",
    "MATCH (n) WITH n, RAND() AS random\n",
    "RETURN n\n",
    "ORDER BY random\n",
    "LIMIT 1\n",
    "\"\"\"\n",
    "results=session.run(query)\n",
    "\n",
    "preprocessed_data = preprocess_result(results)\n",
    "\n",
    "print(preprocessed_data)"
   ]
  },
  {
   "cell_type": "code",
   "execution_count": null,
   "id": "755ea792",
   "metadata": {},
   "outputs": [],
   "source": []
  },
  {
   "cell_type": "code",
   "execution_count": null,
   "id": "4d0ef13e",
   "metadata": {},
   "outputs": [],
   "source": []
  }
 ],
 "metadata": {
  "celltoolbar": "Tags",
  "kernelspec": {
   "display_name": "Python 3 (ipykernel)",
   "language": "python",
   "name": "python3"
  },
  "language_info": {
   "codemirror_mode": {
    "name": "ipython",
    "version": 3
   },
   "file_extension": ".py",
   "mimetype": "text/x-python",
   "name": "python",
   "nbconvert_exporter": "python",
   "pygments_lexer": "ipython3",
   "version": "3.9.15"
  }
 },
 "nbformat": 4,
 "nbformat_minor": 5
}
