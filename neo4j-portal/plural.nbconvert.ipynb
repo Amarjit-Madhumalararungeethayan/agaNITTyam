{
 "cells": [
  {
   "cell_type": "code",
   "execution_count": 1,
   "id": "619ad56e",
   "metadata": {
    "execution": {
     "iopub.execute_input": "2024-04-30T04:47:58.364690Z",
     "iopub.status.busy": "2024-04-30T04:47:58.364231Z",
     "iopub.status.idle": "2024-04-30T04:47:59.043077Z",
     "shell.execute_reply": "2024-04-30T04:47:59.042509Z"
    }
   },
   "outputs": [
    {
     "name": "stdout",
     "output_type": "stream",
     "text": [
      "Requirement already satisfied: neo4j in /Users/amarjit/Desktop/FYP/venv/lib/python3.9/site-packages (5.19.0)\r\n"
     ]
    },
    {
     "name": "stdout",
     "output_type": "stream",
     "text": [
      "Requirement already satisfied: pytz in /Users/amarjit/Desktop/FYP/venv/lib/python3.9/site-packages (from neo4j) (2024.1)\r\n"
     ]
    },
    {
     "name": "stdout",
     "output_type": "stream",
     "text": [
      "Note: you may need to restart the kernel to use updated packages.\n"
     ]
    }
   ],
   "source": [
    "pip install neo4j"
   ]
  },
  {
   "cell_type": "code",
   "execution_count": 2,
   "id": "4195fad7",
   "metadata": {
    "execution": {
     "iopub.execute_input": "2024-04-30T04:47:59.046197Z",
     "iopub.status.busy": "2024-04-30T04:47:59.045945Z",
     "iopub.status.idle": "2024-04-30T04:47:59.121530Z",
     "shell.execute_reply": "2024-04-30T04:47:59.121254Z"
    }
   },
   "outputs": [],
   "source": [
    "from neo4j import GraphDatabase"
   ]
  },
  {
   "cell_type": "code",
   "execution_count": 3,
   "id": "bee1f53d",
   "metadata": {
    "execution": {
     "iopub.execute_input": "2024-04-30T04:47:59.123208Z",
     "iopub.status.busy": "2024-04-30T04:47:59.123109Z",
     "iopub.status.idle": "2024-04-30T04:47:59.125076Z",
     "shell.execute_reply": "2024-04-30T04:47:59.124836Z"
    }
   },
   "outputs": [],
   "source": [
    "driver=GraphDatabase.driver(uri=\"bolt://localhost:7687/neo4j\")\n",
    "#if database has as userid & pwd, use\n",
    "#driver=GraphDatabase.driver(uri=\"bolt://localhost:7687/neo4j\", auth=(\"neo4j\", \"Password\"))\n",
    "session=driver.session()"
   ]
  },
  {
   "cell_type": "code",
   "execution_count": 4,
   "id": "0e494fe4",
   "metadata": {
    "execution": {
     "iopub.execute_input": "2024-04-30T04:47:59.126594Z",
     "iopub.status.busy": "2024-04-30T04:47:59.126513Z",
     "iopub.status.idle": "2024-04-30T04:47:59.128390Z",
     "shell.execute_reply": "2024-04-30T04:47:59.128156Z"
    }
   },
   "outputs": [],
   "source": [
    "def preprocess_result(result):\n",
    "    preprocessed_data = []\n",
    "    for record in result:\n",
    "        preprocessed_data.append(record)\n",
    "    return preprocessed_data[0]"
   ]
  },
  {
   "cell_type": "code",
   "execution_count": 5,
   "id": "5a4d69d0",
   "metadata": {
    "execution": {
     "iopub.execute_input": "2024-04-30T04:47:59.129791Z",
     "iopub.status.busy": "2024-04-30T04:47:59.129712Z",
     "iopub.status.idle": "2024-04-30T04:47:59.145335Z",
     "shell.execute_reply": "2024-04-30T04:47:59.145073Z"
    },
    "tags": [
     "capture_output"
    ]
   },
   "outputs": [
    {
     "name": "stdout",
     "output_type": "stream",
     "text": [
      "<Record p=<Path start=<Node element_id='4:7aa7e805-ae53-4db8-a2ee-292a1b5b500b:668' labels=frozenset({'பொருட்பெயர்'}) properties={'neo4jImportId': 680, 'lemma': 'சகோதரர்கள்', 'line_text': 'சகோதரர்\\tசகோதரர்கள்', 'annotator': 1, 'line_id': 590}> end=<Node element_id='4:7aa7e805-ae53-4db8-a2ee-292a1b5b500b:667' labels=frozenset({'பொருட்பெயர்'}) properties={'neo4jImportId': 679, 'lemma': 'சகோதரர்', 'line_text': 'சகோதரர்\\tசகோதரர்கள்', 'annotator': 1, 'line_id': 590}> size=1>>\n"
     ]
    }
   ],
   "source": [
    "query=\"\"\"\n",
    "MATCH p=()-[r:`ஒருமை  பன்மை`]->()\n",
    "RETURN p\n",
    "ORDER BY RAND() * ID(r)\n",
    "LIMIT 1\n",
    "\"\"\"\n",
    "results=session.run(query)\n",
    "\n",
    "preprocessed_data = preprocess_result(results)\n",
    "\n",
    "print(preprocessed_data)"
   ]
  },
  {
   "cell_type": "code",
   "execution_count": null,
   "id": "755ea792",
   "metadata": {},
   "outputs": [],
   "source": []
  },
  {
   "cell_type": "code",
   "execution_count": null,
   "id": "4d0ef13e",
   "metadata": {},
   "outputs": [],
   "source": []
  }
 ],
 "metadata": {
  "celltoolbar": "Tags",
  "kernelspec": {
   "display_name": "Python 3 (ipykernel)",
   "language": "python",
   "name": "python3"
  },
  "language_info": {
   "codemirror_mode": {
    "name": "ipython",
    "version": 3
   },
   "file_extension": ".py",
   "mimetype": "text/x-python",
   "name": "python",
   "nbconvert_exporter": "python",
   "pygments_lexer": "ipython3",
   "version": "3.9.15"
  }
 },
 "nbformat": 4,
 "nbformat_minor": 5
}
