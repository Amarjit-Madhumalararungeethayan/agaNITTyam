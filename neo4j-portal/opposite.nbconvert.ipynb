{
 "cells": [
  {
   "cell_type": "code",
   "execution_count": 1,
   "id": "619ad56e",
   "metadata": {
    "execution": {
     "iopub.execute_input": "2024-04-30T07:16:30.650344Z",
     "iopub.status.busy": "2024-04-30T07:16:30.649872Z",
     "iopub.status.idle": "2024-04-30T07:16:31.339523Z",
     "shell.execute_reply": "2024-04-30T07:16:31.338874Z"
    }
   },
   "outputs": [
    {
     "name": "stdout",
     "output_type": "stream",
     "text": [
      "Requirement already satisfied: neo4j in /Users/amarjit/Desktop/FYP/venv/lib/python3.9/site-packages (5.19.0)\r\n"
     ]
    },
    {
     "name": "stdout",
     "output_type": "stream",
     "text": [
      "Requirement already satisfied: pytz in /Users/amarjit/Desktop/FYP/venv/lib/python3.9/site-packages (from neo4j) (2024.1)\r\n"
     ]
    },
    {
     "name": "stdout",
     "output_type": "stream",
     "text": [
      "Note: you may need to restart the kernel to use updated packages.\n"
     ]
    }
   ],
   "source": [
    "pip install neo4j"
   ]
  },
  {
   "cell_type": "code",
   "execution_count": 2,
   "id": "4195fad7",
   "metadata": {
    "execution": {
     "iopub.execute_input": "2024-04-30T07:16:31.342814Z",
     "iopub.status.busy": "2024-04-30T07:16:31.342369Z",
     "iopub.status.idle": "2024-04-30T07:16:31.418694Z",
     "shell.execute_reply": "2024-04-30T07:16:31.418406Z"
    }
   },
   "outputs": [],
   "source": [
    "from neo4j import GraphDatabase"
   ]
  },
  {
   "cell_type": "code",
   "execution_count": 3,
   "id": "bee1f53d",
   "metadata": {
    "execution": {
     "iopub.execute_input": "2024-04-30T07:16:31.424207Z",
     "iopub.status.busy": "2024-04-30T07:16:31.424083Z",
     "iopub.status.idle": "2024-04-30T07:16:31.426038Z",
     "shell.execute_reply": "2024-04-30T07:16:31.425751Z"
    }
   },
   "outputs": [],
   "source": [
    "driver=GraphDatabase.driver(uri=\"bolt://localhost:7687/neo4j\")\n",
    "#if database has as userid & pwd, use\n",
    "#driver=GraphDatabase.driver(uri=\"bolt://localhost:7687/neo4j\", auth=(\"neo4j\", \"Password\"))\n",
    "session=driver.session()"
   ]
  },
  {
   "cell_type": "code",
   "execution_count": 4,
   "id": "0e494fe4",
   "metadata": {
    "execution": {
     "iopub.execute_input": "2024-04-30T07:16:31.427553Z",
     "iopub.status.busy": "2024-04-30T07:16:31.427441Z",
     "iopub.status.idle": "2024-04-30T07:16:31.429223Z",
     "shell.execute_reply": "2024-04-30T07:16:31.429001Z"
    }
   },
   "outputs": [],
   "source": [
    "def preprocess_result(result):\n",
    "    preprocessed_data = []\n",
    "    for record in result:\n",
    "        preprocessed_data.append(record)\n",
    "    return preprocessed_data[0]"
   ]
  },
  {
   "cell_type": "code",
   "execution_count": 5,
   "id": "5a4d69d0",
   "metadata": {
    "execution": {
     "iopub.execute_input": "2024-04-30T07:16:31.430644Z",
     "iopub.status.busy": "2024-04-30T07:16:31.430541Z",
     "iopub.status.idle": "2024-04-30T07:16:31.473449Z",
     "shell.execute_reply": "2024-04-30T07:16:31.473128Z"
    },
    "tags": [
     "capture_output"
    ]
   },
   "outputs": [
    {
     "name": "stdout",
     "output_type": "stream",
     "text": [
      "<Record p=<Path start=<Node element_id='4:7aa7e805-ae53-4db8-a2ee-292a1b5b500b:455' labels=frozenset({'பொருட்பெயர்'}) properties={'neo4jImportId': 463, 'lemma': 'இருள்', 'line_text': 'இருள்\\tஒளி', 'annotator': 1, 'line_id': 462}> end=<Node element_id='4:7aa7e805-ae53-4db8-a2ee-292a1b5b500b:456' labels=frozenset({'பொருட்பெயர்'}) properties={'neo4jImportId': 464, 'lemma': 'ஒளி', 'line_text': 'இருள்\\tஒளி', 'annotator': 1, 'line_id': 462}> size=1>>\n"
     ]
    }
   ],
   "source": [
    "query=\"\"\"\n",
    "MATCH p=()-[r:`எதிர்ச்சொல்`]->()\n",
    "WITH p, RAND() AS random\n",
    "RETURN p\n",
    "ORDER BY random\n",
    "LIMIT 1\n",
    "\"\"\"\n",
    "results=session.run(query)\n",
    "\n",
    "preprocessed_data = preprocess_result(results)\n",
    "\n",
    "print(preprocessed_data)"
   ]
  },
  {
   "cell_type": "code",
   "execution_count": null,
   "id": "755ea792",
   "metadata": {},
   "outputs": [],
   "source": []
  },
  {
   "cell_type": "code",
   "execution_count": null,
   "id": "4d0ef13e",
   "metadata": {},
   "outputs": [],
   "source": []
  }
 ],
 "metadata": {
  "celltoolbar": "Tags",
  "kernelspec": {
   "display_name": "Python 3 (ipykernel)",
   "language": "python",
   "name": "python3"
  },
  "language_info": {
   "codemirror_mode": {
    "name": "ipython",
    "version": 3
   },
   "file_extension": ".py",
   "mimetype": "text/x-python",
   "name": "python",
   "nbconvert_exporter": "python",
   "pygments_lexer": "ipython3",
   "version": "3.9.15"
  }
 },
 "nbformat": 4,
 "nbformat_minor": 5
}
