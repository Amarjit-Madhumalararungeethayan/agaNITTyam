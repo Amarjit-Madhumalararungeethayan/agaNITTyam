{
 "cells": [
  {
   "cell_type": "code",
   "execution_count": 1,
   "id": "619ad56e",
   "metadata": {
    "execution": {
     "iopub.execute_input": "2024-04-30T07:16:50.925631Z",
     "iopub.status.busy": "2024-04-30T07:16:50.924918Z",
     "iopub.status.idle": "2024-04-30T07:16:51.617744Z",
     "shell.execute_reply": "2024-04-30T07:16:51.617249Z"
    }
   },
   "outputs": [
    {
     "name": "stdout",
     "output_type": "stream",
     "text": [
      "Requirement already satisfied: neo4j in /Users/amarjit/Desktop/FYP/venv/lib/python3.9/site-packages (5.19.0)\r\n",
      "Requirement already satisfied: pytz in /Users/amarjit/Desktop/FYP/venv/lib/python3.9/site-packages (from neo4j) (2024.1)\r\n"
     ]
    },
    {
     "name": "stdout",
     "output_type": "stream",
     "text": [
      "Note: you may need to restart the kernel to use updated packages.\n"
     ]
    }
   ],
   "source": [
    "pip install neo4j"
   ]
  },
  {
   "cell_type": "code",
   "execution_count": 2,
   "id": "4195fad7",
   "metadata": {
    "execution": {
     "iopub.execute_input": "2024-04-30T07:16:51.620168Z",
     "iopub.status.busy": "2024-04-30T07:16:51.619995Z",
     "iopub.status.idle": "2024-04-30T07:16:51.689088Z",
     "shell.execute_reply": "2024-04-30T07:16:51.688817Z"
    }
   },
   "outputs": [],
   "source": [
    "from neo4j import GraphDatabase"
   ]
  },
  {
   "cell_type": "code",
   "execution_count": 3,
   "id": "bee1f53d",
   "metadata": {
    "execution": {
     "iopub.execute_input": "2024-04-30T07:16:51.690834Z",
     "iopub.status.busy": "2024-04-30T07:16:51.690743Z",
     "iopub.status.idle": "2024-04-30T07:16:51.692658Z",
     "shell.execute_reply": "2024-04-30T07:16:51.692402Z"
    }
   },
   "outputs": [],
   "source": [
    "driver=GraphDatabase.driver(uri=\"bolt://localhost:7687/neo4j\")\n",
    "#if database has as userid & pwd, use\n",
    "#driver=GraphDatabase.driver(uri=\"bolt://localhost:7687/neo4j\", auth=(\"neo4j\", \"Password\"))\n",
    "session=driver.session()"
   ]
  },
  {
   "cell_type": "code",
   "execution_count": 4,
   "id": "0e494fe4",
   "metadata": {
    "execution": {
     "iopub.execute_input": "2024-04-30T07:16:51.694114Z",
     "iopub.status.busy": "2024-04-30T07:16:51.694025Z",
     "iopub.status.idle": "2024-04-30T07:16:51.695885Z",
     "shell.execute_reply": "2024-04-30T07:16:51.695656Z"
    }
   },
   "outputs": [],
   "source": [
    "def preprocess_result(result):\n",
    "    preprocessed_data = []\n",
    "    for record in result:\n",
    "        preprocessed_data.append(record)\n",
    "    return preprocessed_data[0]"
   ]
  },
  {
   "cell_type": "code",
   "execution_count": 5,
   "id": "5a4d69d0",
   "metadata": {
    "execution": {
     "iopub.execute_input": "2024-04-30T07:16:51.697294Z",
     "iopub.status.busy": "2024-04-30T07:16:51.697203Z",
     "iopub.status.idle": "2024-04-30T07:16:51.729251Z",
     "shell.execute_reply": "2024-04-30T07:16:51.728987Z"
    },
    "tags": [
     "capture_output"
    ]
   },
   "outputs": [
    {
     "name": "stdout",
     "output_type": "stream",
     "text": [
      "<Record p=<Path start=<Node element_id='4:7aa7e805-ae53-4db8-a2ee-292a1b5b500b:892' labels=frozenset({'ஒன்றாக'}) properties={'neo4jImportId': 908, 'lemma': 'விண் + வளி', 'line_text': 'விண்வெளி\\tவிண்\\tவளி', 'annotator': 1, 'line_id': 714}> end=<Node element_id='4:7aa7e805-ae53-4db8-a2ee-292a1b5b500b:889' labels=frozenset({'பொருட்பெயர்'}) properties={'neo4jImportId': 905, 'lemma': 'விண்வெளி', 'line_text': 'விண்வெளி\\tவிண்\\tவளி', 'annotator': 1, 'line_id': 714}> size=1>>\n"
     ]
    }
   ],
   "source": [
    "query=\"\"\"\n",
    "MATCH p=()-[r:`செருத்தல்`]->()\n",
    "WITH p, RAND() AS random\n",
    "RETURN p\n",
    "ORDER BY random\n",
    "LIMIT 1\n",
    "\"\"\"\n",
    "results=session.run(query)\n",
    "\n",
    "preprocessed_data = preprocess_result(results)\n",
    "\n",
    "print(preprocessed_data)"
   ]
  },
  {
   "cell_type": "code",
   "execution_count": null,
   "id": "755ea792",
   "metadata": {},
   "outputs": [],
   "source": []
  },
  {
   "cell_type": "code",
   "execution_count": null,
   "id": "4d0ef13e",
   "metadata": {},
   "outputs": [],
   "source": []
  }
 ],
 "metadata": {
  "celltoolbar": "Tags",
  "kernelspec": {
   "display_name": "Python 3 (ipykernel)",
   "language": "python",
   "name": "python3"
  },
  "language_info": {
   "codemirror_mode": {
    "name": "ipython",
    "version": 3
   },
   "file_extension": ".py",
   "mimetype": "text/x-python",
   "name": "python",
   "nbconvert_exporter": "python",
   "pygments_lexer": "ipython3",
   "version": "3.9.15"
  }
 },
 "nbformat": 4,
 "nbformat_minor": 5
}
